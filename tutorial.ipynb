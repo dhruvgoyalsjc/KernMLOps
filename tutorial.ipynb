{
 "cells": [
  {
   "cell_type": "code",
   "execution_count": 1,
   "id": "4da464b6-89fc-4ca2-9290-f3bebbe2dfad",
   "metadata": {},
   "outputs": [],
   "source": [
    "!make docker-image > /dev/null 2>&1"
   ]
  },
  {
   "cell_type": "code",
   "execution_count": 2,
   "id": "a62bef45-339e-44c1-8309-874c236ed23f",
   "metadata": {},
   "outputs": [],
   "source": [
    "!CONTAINER_CMD=\"bash -lc 'make install-ycsb'\" make docker > /dev/null 2>&1"
   ]
  },
  {
   "cell_type": "code",
   "execution_count": 3,
   "id": "f2a1beeb-3882-4dd0-91c7-aa98c303c893",
   "metadata": {},
   "outputs": [],
   "source": [
    "from pathlib import Path\n",
    "import pexpect\n",
    "import os\n",
    "import time\n",
    "\n",
    "\"\"\" Collector class has helper methods to interact with kermit\"\"\"\n",
    "class Collector: \n",
    "    def __init__(self, config: Path):\n",
    "        self.env = os.environ.copy()\n",
    "        self.env[\"INTERACTIVE\"] = \"it\"\n",
    "        self.env[\"CONTAINER_CMD\"] = f\"bash -lc 'KERNMLOPS_CONFIG_FILE={config} make collect-data'\"\n",
    "        self.collect_process : pexpect.spawn | None = None\n",
    "\n",
    "    def start_collection(self, logfile=None):\n",
    "        self.collect_process = pexpect.spawn(\"make docker\", env=self.env, timeout=None, logfile=logfile)\n",
    "        self.collect_process.expect_exact([\"Started benchmark\"])\n",
    "\n",
    "    def _after_run_generate_file_data() -> dict[str, list[Path]]:\n",
    "        start_path : Path = Path(\"./data\")\n",
    "        list_of_collect_id_dirs = start_path.glob(\"*/*/*\")\n",
    "        latest_collect_id = max(list_of_collect_id_dirs, key=os.path.getctime)\n",
    "        list_of_files = latest_collect_id.glob(\"*.*.parquet\")\n",
    "        output = {}\n",
    "        for f in list_of_files:\n",
    "            index = str(f).removeprefix(str(f.parent) + \"/\").split(\".\")[0]\n",
    "            if index not in output.keys():\n",
    "                output[index] = []\n",
    "            output[index].append(f)\n",
    "        return output\n",
    "        \n",
    "    def wait(self) -> int:\n",
    "        if self.collect_process is None:\n",
    "            return\n",
    "        self.collect_process.expect([pexpect.EOF])\n",
    "        self.collect_process.wait()\n",
    "        return Collector._after_run_generate_file_data()\n",
    "        \n",
    "    def stop_collection(self):\n",
    "        if self.collect_process is None:\n",
    "            return\n",
    "        self.collect_process.sendline(\"END\")\n",
    "        return self.wait()"
   ]
  },
  {
   "cell_type": "markdown",
   "id": "f5874f9a-d168-446b-9a52-ec5b49f7c35f",
   "metadata": {},
   "source": [
    "There are two ways to run kermit:\n",
    "- With the raw config\n",
    "- With a pre-programmed benchmark config"
   ]
  },
  {
   "cell_type": "code",
   "execution_count": 4,
   "id": "b8b6f636-6e03-4a04-bc5d-6b4cff6c9988",
   "metadata": {},
   "outputs": [
    {
     "name": "stdout",
     "output_type": "stream",
     "text": [
      "Collection has started\n",
      "Exit application\n",
      "{'dtlb_misses': [PosixPath('data/curated/faux/58c096ef-87b4-40c8-b1a7-ba9bf17346c9/dtlb_misses.end.parquet')], 'block_io': [PosixPath('data/curated/faux/58c096ef-87b4-40c8-b1a7-ba9bf17346c9/block_io.end.parquet')], 'file_data': [PosixPath('data/curated/faux/58c096ef-87b4-40c8-b1a7-ba9bf17346c9/file_data.end.parquet')], 'system_info': [PosixPath('data/curated/faux/58c096ef-87b4-40c8-b1a7-ba9bf17346c9/system_info.end.parquet')], 'dtlb_walk_duration': [PosixPath('data/curated/faux/58c096ef-87b4-40c8-b1a7-ba9bf17346c9/dtlb_walk_duration.end.parquet')], 'process_metadata': [PosixPath('data/curated/faux/58c096ef-87b4-40c8-b1a7-ba9bf17346c9/process_metadata.end.parquet')], 'tlb_flushes': [PosixPath('data/curated/faux/58c096ef-87b4-40c8-b1a7-ba9bf17346c9/tlb_flushes.end.parquet')], 'itlb_misses': [PosixPath('data/curated/faux/58c096ef-87b4-40c8-b1a7-ba9bf17346c9/itlb_misses.end.parquet')], 'quanta_runtime': [PosixPath('data/curated/faux/58c096ef-87b4-40c8-b1a7-ba9bf17346c9/quanta_runtime.end.parquet')], 'memory_usage': [PosixPath('data/curated/faux/58c096ef-87b4-40c8-b1a7-ba9bf17346c9/memory_usage.end.parquet')], 'process_trace': [PosixPath('data/curated/faux/58c096ef-87b4-40c8-b1a7-ba9bf17346c9/process_trace.end.parquet')], 'quanta_queued_time': [PosixPath('data/curated/faux/58c096ef-87b4-40c8-b1a7-ba9bf17346c9/quanta_queued_time.end.parquet')]}\n"
     ]
    }
   ],
   "source": [
    "import subprocess\n",
    "import sys\n",
    "collect = Collector(\"./config/raw_overrides.yaml\")\n",
    "# This creates a raw collector, I suggest looking into this file to learn more\n",
    "\n",
    "w = open(\"hello.txt\", \"bw\")\n",
    "collect.start_collection(logfile=w)\n",
    "print(\"Collection has started\")\n",
    "# Start collection\n",
    "\n",
    "f = open(\"blah.txt\", \"w\")\n",
    "bench_test = subprocess.Popen([\"cat\", \"defaults.yaml\"], stdout=f)\n",
    "bench_test.wait()\n",
    "# Run benchmark application\n",
    "\n",
    "print(\"Exit application\")\n",
    "raw_coll_info = collect.stop_collection()\n",
    "print(raw_coll_info)\n",
    "# Stop the Collector"
   ]
  },
  {
   "cell_type": "code",
   "execution_count": 5,
   "id": "5b719918-a008-4385-8c0b-59fd99faa7c1",
   "metadata": {},
   "outputs": [],
   "source": [
    "collect = Collector(\"./config/start_overrides.yaml\")\n",
    "# This is a simple redis benchmark config\n",
    "\n",
    "w = open(\"hello.txt\", \"bw\")\n",
    "collect.start_collection(logfile=w)\n",
    "# Start collection\n",
    "\n",
    "start_coll_info = collect.wait()\n",
    "#Wait for collector to finish"
   ]
  },
  {
   "cell_type": "code",
   "execution_count": 6,
   "id": "bb77c577-d4bd-4c97-86dd-f69388c796de",
   "metadata": {},
   "outputs": [
    {
     "name": "stdout",
     "output_type": "stream",
     "text": [
      "dict_keys(['dtlb_misses', 'block_io', 'file_data', 'system_info', 'dtlb_walk_duration', 'process_metadata', 'tlb_flushes', 'itlb_misses', 'quanta_runtime', 'memory_usage', 'process_trace', 'quanta_queued_time'])\n",
      "dict_keys(['dtlb_misses', 'block_io', 'file_data', 'system_info', 'dtlb_walk_duration', 'process_metadata', 'tlb_flushes', 'itlb_misses', 'quanta_runtime', 'memory_usage', 'process_trace', 'quanta_queued_time'])\n"
     ]
    }
   ],
   "source": [
    "print(raw_coll_info.keys())\n",
    "print(start_coll_info.keys())"
   ]
  },
  {
   "cell_type": "markdown",
   "id": "cb351660-009f-4c1f-9cd6-8d385159c023",
   "metadata": {},
   "source": [
    "Now let's try to examine some of the system information from this.\n",
    "I use polars, you can use whatever you like as far as data frames go, so long as they can read parquet files."
   ]
  },
  {
   "cell_type": "code",
   "execution_count": 7,
   "id": "8f164d85-48c6-4a1e-992c-28c17ac35fd5",
   "metadata": {},
   "outputs": [
    {
     "name": "stdout",
     "output_type": "stream",
     "text": [
      "['pid', 'tgid', 'ts_ns', 'name', 'cap_type', 'collection_id']\n"
     ]
    }
   ],
   "source": [
    "import polars as pl\n",
    "df = pl.read_parquet(raw_coll_info[\"process_trace\"])\n",
    "print(df.columns)"
   ]
  },
  {
   "cell_type": "raw",
   "id": "9258bc08-a748-4cb4-9ad8-466aeec46b6b",
   "metadata": {},
   "source": [
    "As a very easy excercise we could filter out the processes that are created during the life of the program and give them the name of the last exec call."
   ]
  },
  {
   "cell_type": "code",
   "execution_count": 8,
   "id": "967b0c2e-8e9f-4422-b729-be8c0a2ae1c4",
   "metadata": {},
   "outputs": [],
   "source": [
    "import polars as pl\n",
    "df = pl.read_parquet(raw_coll_info[\"process_trace\"])\n",
    "\n",
    "def filter_process_trace(process_trace_df: pl.DataFrame) -> pl.DataFrame :\n",
    "    df = process_trace_df\n",
    "    # Filter just the processes\n",
    "    df = df.filter(pl.col(\"tgid\") == pl.col(\"pid\")).drop(\"collection_id\")\n",
    "\n",
    "    # Find the last name of each process\n",
    "    start_df = df.sort(pl.col(\"ts_ns\"), descending = True)\n",
    "    helper_dict = {}\n",
    "    for row in start_df.iter_rows():\n",
    "        pid = row[0]\n",
    "        comm = row[3]\n",
    "        if pid in helper_dict.keys() or comm == \"\": \n",
    "            continue\n",
    "        helper_dict[pid] = comm\n",
    "\n",
    "    # Separate the start and end\n",
    "    full_df = start_df.with_columns(pl.col(\"pid\").map_elements(lambda x : helper_dict.get(x, \"\"), return_dtype=str).alias(\"full_name\"))\n",
    "    full_df = full_df.drop([\"tgid\", \"name\"])\n",
    "    start_df = full_df.filter(pl.col(\"cap_type\") == \"start\").rename({\"ts_ns\": \"start_ns\"}).drop(\"cap_type\")\n",
    "    end_df = full_df.filter(pl.col(\"cap_type\") == \"end\").rename({\"ts_ns\": \"end_ns\"}).drop([\"cap_type\", \"full_name\"])\n",
    "\n",
    "    # Join them to get the process table\n",
    "    return start_df.join(end_df, \"pid\")\n",
    "\n"
   ]
  },
  {
   "cell_type": "code",
   "execution_count": 9,
   "id": "0247cd05-d451-48b0-a83f-a2404f9f5cbb",
   "metadata": {},
   "outputs": [
    {
     "data": {
      "text/html": [
       "<div><style>\n",
       ".dataframe > thead > tr,\n",
       ".dataframe > tbody > tr {\n",
       "  text-align: right;\n",
       "  white-space: pre-wrap;\n",
       "}\n",
       "</style>\n",
       "<small>shape: (1, 4)</small><table border=\"1\" class=\"dataframe\"><thead><tr><th>pid</th><th>start_ns</th><th>full_name</th><th>end_ns</th></tr><tr><td>i64</td><td>i64</td><td>str</td><td>i64</td></tr></thead><tbody><tr><td>61080</td><td>419474574170688</td><td>&quot;cat&quot;</td><td>419474577636334</td></tr></tbody></table></div>"
      ],
      "text/plain": [
       "shape: (1, 4)\n",
       "┌───────┬─────────────────┬───────────┬─────────────────┐\n",
       "│ pid   ┆ start_ns        ┆ full_name ┆ end_ns          │\n",
       "│ ---   ┆ ---             ┆ ---       ┆ ---             │\n",
       "│ i64   ┆ i64             ┆ str       ┆ i64             │\n",
       "╞═══════╪═════════════════╪═══════════╪═════════════════╡\n",
       "│ 61080 ┆ 419474574170688 ┆ cat       ┆ 419474577636334 │\n",
       "└───────┴─────────────────┴───────────┴─────────────────┘"
      ]
     },
     "execution_count": 9,
     "metadata": {},
     "output_type": "execute_result"
    }
   ],
   "source": [
    "filter_process_trace(pl.read_parquet(raw_coll_info[\"process_trace\"]))"
   ]
  },
  {
   "cell_type": "code",
   "execution_count": 10,
   "id": "b705e626-63c6-42da-9d6e-4a9f916e8d0d",
   "metadata": {},
   "outputs": [
    {
     "data": {
      "text/html": [
       "<div><style>\n",
       ".dataframe > thead > tr,\n",
       ".dataframe > tbody > tr {\n",
       "  text-align: right;\n",
       "  white-space: pre-wrap;\n",
       "}\n",
       "</style>\n",
       "<small>shape: (61, 4)</small><table border=\"1\" class=\"dataframe\"><thead><tr><th>pid</th><th>start_ns</th><th>full_name</th><th>end_ns</th></tr><tr><td>i64</td><td>i64</td><td>str</td><td>i64</td></tr></thead><tbody><tr><td>61336</td><td>419501991842977</td><td>&quot;redis-server&quot;</td><td>419547347459690</td></tr><tr><td>61658</td><td>419547260958396</td><td>&quot;redis-cli&quot;</td><td>419547263921310</td></tr><tr><td>61547</td><td>419536531681253</td><td>&quot;ycsb&quot;</td><td>419547076575816</td></tr><tr><td>61629</td><td>419546582978581</td><td>&quot;java&quot;</td><td>419547056372997</td></tr><tr><td>61549</td><td>419536600572129</td><td>&quot;java&quot;</td><td>419546543619569</td></tr><tr><td>&hellip;</td><td>&hellip;</td><td>&hellip;</td><td>&hellip;</td></tr><tr><td>61348</td><td>419503194570241</td><td>&quot;ls&quot;</td><td>419503203119255</td></tr><tr><td>61347</td><td>419503193071859</td><td>&quot;uname&quot;</td><td>419503194312078</td></tr><tr><td>61345</td><td>419503185565267</td><td>&quot;pwd&quot;</td><td>419503188035013</td></tr><tr><td>61343</td><td>419503001488913</td><td>&quot;redis-cli&quot;</td><td>419503004876462</td></tr><tr><td>61337</td><td>419501994188538</td><td>&quot;redis-cli&quot;</td><td>419502000219887</td></tr></tbody></table></div>"
      ],
      "text/plain": [
       "shape: (61, 4)\n",
       "┌───────┬─────────────────┬──────────────┬─────────────────┐\n",
       "│ pid   ┆ start_ns        ┆ full_name    ┆ end_ns          │\n",
       "│ ---   ┆ ---             ┆ ---          ┆ ---             │\n",
       "│ i64   ┆ i64             ┆ str          ┆ i64             │\n",
       "╞═══════╪═════════════════╪══════════════╪═════════════════╡\n",
       "│ 61336 ┆ 419501991842977 ┆ redis-server ┆ 419547347459690 │\n",
       "│ 61658 ┆ 419547260958396 ┆ redis-cli    ┆ 419547263921310 │\n",
       "│ 61547 ┆ 419536531681253 ┆ ycsb         ┆ 419547076575816 │\n",
       "│ 61629 ┆ 419546582978581 ┆ java         ┆ 419547056372997 │\n",
       "│ 61549 ┆ 419536600572129 ┆ java         ┆ 419546543619569 │\n",
       "│ …     ┆ …               ┆ …            ┆ …               │\n",
       "│ 61348 ┆ 419503194570241 ┆ ls           ┆ 419503203119255 │\n",
       "│ 61347 ┆ 419503193071859 ┆ uname        ┆ 419503194312078 │\n",
       "│ 61345 ┆ 419503185565267 ┆ pwd          ┆ 419503188035013 │\n",
       "│ 61343 ┆ 419503001488913 ┆ redis-cli    ┆ 419503004876462 │\n",
       "│ 61337 ┆ 419501994188538 ┆ redis-cli    ┆ 419502000219887 │\n",
       "└───────┴─────────────────┴──────────────┴─────────────────┘"
      ]
     },
     "execution_count": 10,
     "metadata": {},
     "output_type": "execute_result"
    }
   ],
   "source": [
    "filter_process_trace(pl.read_parquet(start_coll_info[\"process_trace\"]))"
   ]
  },
  {
   "cell_type": "code",
   "execution_count": 11,
   "id": "df4fa599-56a0-4773-be03-7629f6d337a7",
   "metadata": {},
   "outputs": [],
   "source": [
    "import polars as pl\n",
    "\n",
    "def filter_process_trace(process_trace_df: pl.DataFrame) -> pl.DataFrame :\n",
    "    df = process_trace_df\n",
    "    # Filter just the processes\n",
    "    df = df.filter(pl.col(\"tgid\") == pl.col(\"pid\")).drop(\"collection_id\")\n",
    "\n",
    "    # Find the last name of each process\n",
    "    start_df = df.sort(pl.col(\"ts_ns\"), descending = True)\n",
    "    helper_dict = {}\n",
    "    for row in start_df.iter_rows():\n",
    "        pid = row[0]\n",
    "        comm = row[3]\n",
    "        if pid in helper_dict.keys() or comm == \"\": \n",
    "            continue\n",
    "        helper_dict[pid] = comm\n",
    "\n",
    "    # Separate the start and end\n",
    "    full_df = start_df.with_columns(pl.col(\"pid\").map_elements(lambda x : helper_dict.get(x, \"\"), return_dtype=str).alias(\"full_name\"))\n",
    "    full_df = full_df.drop([\"tgid\", \"name\"])\n",
    "    start_df = full_df.filter(pl.col(\"cap_type\") == \"start\").rename({\"ts_ns\": \"start_ns\"}).drop(\"cap_type\")\n",
    "    end_df = full_df.filter(pl.col(\"cap_type\") == \"end\").rename({\"ts_ns\": \"end_ns\"}).drop([\"cap_type\", \"full_name\"])\n",
    "\n",
    "    # Join them to get the process table\n",
    "    combined_df = start_df.join(end_df, \"pid\")\n",
    "    return combined_df.with_columns((pl.col(\"end_ns\") - pl.col(\"start_ns\")).alias(\"duration\"))\n",
    "\n",
    "def process_trace_start_end_ts(process_trace_df: pl.DataFrame, proc_name: str, index: int) ->(int, int, int):\n",
    "    trace_df = filter_process_trace(process_trace_df).sort(pl.col(\"start_ns\"))\n",
    "    df = trace_df.filter(pl.col(\"full_name\") == proc_name)\n",
    "    print(df)\n",
    "    df = df[index]\n",
    "    pid = df[\"pid\"][0]\n",
    "    start_ns = df[\"start_ns\"][0]\n",
    "    end_ns = df[\"end_ns\"][0]\n",
    "    return pid, start_ns, end_ns\n",
    "\n",
    "def clean_rss_pid(rss_df: pl.DataFrame, pid: int) -> pl.DataFrame:\n",
    "    df = rss_df.drop([\"pid\", \"collection_id\"]).sort(pl.col(\"ts_ns\"))\n",
    "    df = df.filter(pl.col(\"tgid\") == pid)\n",
    "    df = df.with_columns(pl.when(pl.col(\"member\") == \"MM_FILEPAGES\")\n",
    "                     .then(pl.col(\"count\"))\n",
    "                     .otherwise(None)\n",
    "                     .fill_null(strategy=\"forward\")\n",
    "                     .fill_null(strategy=\"backward\")\n",
    "                     .alias(\"file\"))\n",
    "    df = df.with_columns(pl.when(pl.col(\"member\") == \"MM_ANONPAGES\")\n",
    "                     .then(pl.col(\"count\"))\n",
    "                     .otherwise(None)\n",
    "                     .fill_null(strategy=\"forward\")\n",
    "                     .fill_null(strategy=\"backward\")\n",
    "                     .alias(\"anon\"))\n",
    "    df = df.with_columns(pl.when(pl.col(\"member\") == \"MM_SWAPENTS\")\n",
    "                     .then(pl.col(\"count\"))\n",
    "                     .otherwise(None)\n",
    "                     .fill_null(strategy=\"forward\")\n",
    "                     .fill_null(strategy=\"backward\")\n",
    "                     .alias(\"swap\"))\n",
    "    df = df.drop([\"member\", \"count\"])\n",
    "    zero_df = pl.DataFrame({\"tgid\": pid, \"ts_ns\" : -1, \"file\" : 0, \"anon\": 0, \"swap\": 0})\n",
    "    df = pl.concat([df, zero_df]).sort(\"ts_ns\")\n",
    "    df = df.fill_null(strategy=\"forward\")\n",
    "    df = df.filter(pl.col(\"ts_ns\") >= 0)\n",
    "    df = df.with_columns((pl.col(\"file\") + pl.col(\"anon\") + pl.col(\"swap\")).alias(\"count\"))\n",
    "    df = df.drop([\"file\", \"anon\", \"swap\"])\n",
    "    return df\n",
    "\n",
    "def filter_rss_with_ts(rss_trace_df: pl.DataFrame, start: int, end: int):\n",
    "    print(start, end)\n",
    "    new_frame_dict = {}\n",
    "    for column_name in rss_trace_df.columns:\n",
    "        new_frame_dict[column_name] = [None, None]\n",
    "    new_frame_dict[\"ts_ns\"] = [start, end]\n",
    "    df = rss_trace_df.vstack(pl.DataFrame(new_frame_dict))\n",
    "    df = df.sort(pl.col(\"ts_ns\")).fill_null(strategy=\"forward\").fill_null(strategy=\"backward\")\n",
    "    return df.filter(pl.col(\"ts_ns\").is_between(start, end, closed='both'))\n",
    "\n",
    "def get_proper_rss(proc_path: Path, rss_path: Path, rss_name: str, rss_ind: int, runner_name: str, runner_ind: int, tag:str):\n",
    "    proc_trace_df = pl.read_parquet(proc_path)\n",
    "    rss_df = pl.read_parquet(rss_path)\n",
    "\n",
    "    _, start, end = process_trace_start_end_ts(proc_trace_df, runner_name, runner_ind)\n",
    "    pid, _, _ = process_trace_start_end_ts(proc_trace_df, rss_name, rss_ind)\n",
    "    clean_rss_df = filter_rss_with_ts(clean_rss_pid(rss_df, pid), start, end)\n",
    "    return clean_rss_df.with_columns((pl.col(\"ts_ns\") - pl.min(\"ts_ns\")).alias(\"norm_ts_ns\")).with_columns(pl.lit(tag).alias('policy'))\n",
    "\n",
    "from pathlib import Path\n",
    "from plotnine import ggplot, aes, geom_line, geom_point, labs\n",
    "\n",
    "def create_graph(inputs: [(str, dict[str, Path])], proc_tag: str, proc_ind: int, time_proc_tag: str, time_proc_index: int, title: str) -> None:\n",
    "    df = pl.DataFrame()\n",
    "    for (tag, filedict) in inputs:\n",
    "        append_df = get_proper_rss(filedict[\"process_trace\"],\n",
    "                                   filedict[\"mm_rss_stat\"],\n",
    "                                   proc_tag, proc_ind,\n",
    "                                   time_proc_tag,\n",
    "                                   time_proc_index,\n",
    "                                   tag).drop([\"tgid\", \"ts_ns\"])\n",
    "        df = pl.concat([df, append_df])\n",
    "    df = df.with_columns((pl.col(\"norm_ts_ns\") / (10**9)/ 60).alias(\"norm_ts_mins\"))\n",
    "    plt0 = (ggplot(df)\n",
    "            + aes(\"norm_ts_mins\", y=\"count\", colour=\"policy\")\n",
    "            + geom_point()\n",
    "            + geom_line()\n",
    "            + labs(x=\"Time (mins)\",\n",
    "                   y=\"4kB Pages\",\n",
    "                   title=title)\n",
    "           )\n",
    "    return plt0"
   ]
  },
  {
   "cell_type": "code",
   "execution_count": null,
   "id": "94874478-33b2-4c67-989c-dc98cfc529f1",
   "metadata": {},
   "outputs": [],
   "source": [
    "collect = Collector(\"./config/redis_never.yaml\")\n",
    "collect.start_collection(None)\n",
    "redis_never_info = collect.wait()\n",
    "collect = Collector(\"./config/redis_madvise.yaml\")\n",
    "collect.start_collection(None)\n",
    "redis_madvise_info = collect.wait()\n",
    "collect = Collector(\"./config/redis_always.yaml\")\n",
    "collect.start_collection(None)\n",
    "redis_always_info = collect.wait()"
   ]
  },
  {
   "cell_type": "code",
   "execution_count": null,
   "id": "c8bcfd78-4c61-4c00-b3a2-5fb4d8a415cc",
   "metadata": {},
   "outputs": [],
   "source": [
    "from IPython.display import Image, display\n",
    "plt = create_graph([(\"4k\", redis_never_info),\n",
    "                    (\"madvise\", redis_madvise_info),\n",
    "                    (\"thp\", redis_always_info)],\n",
    "                   \"redis-server\", 0, \n",
    "                   \"redis-server\", 0,\n",
    "                   \"Redis driven by YCSB with Insertions and Deletes using Jemalloc\")\n",
    "plt.save(\"deletes-redis.png\")"
   ]
  },
  {
   "cell_type": "code",
   "execution_count": null,
   "id": "5c28cd4d-c553-467e-83e3-85cf2a64bec4",
   "metadata": {},
   "outputs": [],
   "source": [
    "Image(filename=\"./deletes-redis.png\")"
   ]
  },
  {
   "cell_type": "code",
   "execution_count": null,
   "id": "e8c3028a-3d4a-4715-9a1b-37b769a97dc3",
   "metadata": {},
   "outputs": [],
   "source": []
  },
  {
   "cell_type": "code",
   "execution_count": null,
   "id": "9fad914c-bd29-4e80-a5c9-f37cb88f14d5",
   "metadata": {},
   "outputs": [],
   "source": []
  }
 ],
 "metadata": {
  "kernelspec": {
   "display_name": "Python 3 (ipykernel)",
   "language": "python",
   "name": "python3"
  },
  "language_info": {
   "codemirror_mode": {
    "name": "ipython",
    "version": 3
   },
   "file_extension": ".py",
   "mimetype": "text/x-python",
   "name": "python",
   "nbconvert_exporter": "python",
   "pygments_lexer": "ipython3",
   "version": "3.12.3"
  }
 },
 "nbformat": 4,
 "nbformat_minor": 5
}
